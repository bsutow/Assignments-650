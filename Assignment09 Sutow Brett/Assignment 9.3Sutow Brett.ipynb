{
 "cells": [
  {
   "cell_type": "markdown",
   "metadata": {},
   "source": [
    "## Assignment 9.3"
   ]
  },
  {
   "cell_type": "code",
   "execution_count": 1,
   "metadata": {},
   "outputs": [],
   "source": [
    "import os\n",
    "import shutil\n",
    "import json\n",
    "from pathlib import Path\n",
    "\n",
    "import pandas as pd\n",
    "\n",
    "from kafka import KafkaProducer, KafkaAdminClient\n",
    "from kafka.admin.new_topic import NewTopic\n",
    "from kafka.errors import TopicAlreadyExistsError\n",
    "\n",
    "from pyspark.sql import SparkSession\n",
    "from pyspark.streaming import StreamingContext\n",
    "from pyspark import SparkConf\n",
    "from pyspark.sql.functions import window, from_json, col, expr, to_json, struct, when\n",
    "from pyspark.sql.types import StringType, TimestampType, DoubleType, StructField, StructType\n",
    "from pyspark.sql.functions import udf\n",
    "\n",
    "current_dir = Path(os.getcwd()).absolute()\n",
    "checkpoint_dir = current_dir.joinpath('checkpoints')\n",
    "joined_checkpoint_dir = checkpoint_dir.joinpath('joined')\n",
    "\n",
    "if joined_checkpoint_dir.exists():\n",
    "    shutil.rmtree(joined_checkpoint_dir)\n",
    "\n",
    "joined_checkpoint_dir.mkdir(parents=True, exist_ok=True)"
   ]
  },
  {
   "cell_type": "markdown",
   "metadata": {},
   "source": [
    "### Configuration Parameters \n",
    "\n",
    "> **TODO:** Change the configuration prameters to the appropriate values for your setup."
   ]
  },
  {
   "cell_type": "code",
   "execution_count": 2,
   "metadata": {},
   "outputs": [
    {
     "data": {
      "text/plain": [
       "{'bootstrap_servers': ['kafka.kafka.svc.cluster.local:9092'],\n",
       " 'first_name': 'Brett',\n",
       " 'last_name': 'Sutow',\n",
       " 'client_id': 'SutowBrett',\n",
       " 'topic_prefix': 'SutowBrett',\n",
       " 'locations_topic': 'SutowBrett-locations',\n",
       " 'accelerations_topic': 'SutowBrett-accelerations',\n",
       " 'joined_topic': 'SutowBrett-joined'}"
      ]
     },
     "execution_count": 2,
     "metadata": {},
     "output_type": "execute_result"
    }
   ],
   "source": [
    "config = dict(\n",
    "    bootstrap_servers=['kafka.kafka.svc.cluster.local:9092'],\n",
    "    first_name='Brett',\n",
    "    last_name='Sutow'\n",
    ")\n",
    "\n",
    "config['client_id'] = '{}{}'.format(\n",
    "    config['last_name'], \n",
    "    config['first_name']\n",
    ")\n",
    "config['topic_prefix'] = '{}{}'.format(\n",
    "    config['last_name'], \n",
    "    config['first_name']\n",
    ")\n",
    "\n",
    "config['locations_topic'] = '{}-locations'.format(config['topic_prefix'])\n",
    "config['accelerations_topic'] = '{}-accelerations'.format(config['topic_prefix'])\n",
    "config['joined_topic'] = '{}-joined'.format(config['topic_prefix'])\n",
    "\n",
    "config"
   ]
  },
  {
   "cell_type": "markdown",
   "metadata": {},
   "source": [
    "### Create Topic Utility Function\n",
    "\n",
    "The `create_kafka_topic` helps create a Kafka topic based on your configuration settings.  For instance, if your first name is *John* and your last name is *Doe*, `create_kafka_topic('locations')` will create a topic with the name `DoeJohn-locations`.  The function will not create the topic if it already exists. "
   ]
  },
  {
   "cell_type": "code",
   "execution_count": 3,
   "metadata": {},
   "outputs": [
    {
     "name": "stdout",
     "output_type": "stream",
     "text": [
      "Topic \"SutowBrett-joined\" already exists\n"
     ]
    }
   ],
   "source": [
    "def create_kafka_topic(topic_name, config=config, num_partitions=1, replication_factor=1):\n",
    "    bootstrap_servers = config['bootstrap_servers']\n",
    "    client_id = config['client_id']\n",
    "    topic_prefix = config['topic_prefix']\n",
    "    name = '{}-{}'.format(topic_prefix, topic_name)\n",
    "    \n",
    "    admin_client = KafkaAdminClient(\n",
    "        bootstrap_servers=bootstrap_servers, \n",
    "        client_id=client_id\n",
    "    )\n",
    "    \n",
    "    topic = NewTopic(\n",
    "        name=name,\n",
    "        num_partitions=num_partitions,\n",
    "        replication_factor=replication_factor\n",
    "    )\n",
    "\n",
    "    topic_list = [topic]\n",
    "    try:\n",
    "        admin_client.create_topics(new_topics=topic_list)\n",
    "        print('Created topic \"{}\"'.format(name))\n",
    "    except TopicAlreadyExistsError as e:\n",
    "        print('Topic \"{}\" already exists'.format(name))\n",
    "\n",
    "create_kafka_topic('joined')"
   ]
  },
  {
   "cell_type": "markdown",
   "metadata": {},
   "source": [
    "**TODO:** This code is identical to the code used in 9.1 to publish acceleration and location data to the `LastnameFirstname-simple` topic. You will need to add in the code you used to create the `df_accelerations` dataframe. In order to read data from this topic, make sure that you are running the notebook you created in assignment 8 that publishes acceleration and location data to the LastnameFirstname-simple topic."
   ]
  },
  {
   "cell_type": "code",
   "execution_count": 5,
   "metadata": {},
   "outputs": [],
   "source": [
    "spark = SparkSession\\\n",
    "    .builder\\\n",
    "    .appName(\"Assignment09\")\\\n",
    "    .getOrCreate()\n",
    "\n",
    "df_locations = spark \\\n",
    "  .readStream \\\n",
    "  .format(\"kafka\") \\\n",
    "  .option(\"kafka.bootstrap.servers\", \"kafka.kafka.svc.cluster.local:9092\") \\\n",
    "  .option(\"subscribe\", config['locations_topic']) \\\n",
    "  .load()\n",
    "\n",
    "## TODO: Add code to create the df_accelerations dataframe\n",
    "df_accelerations = spark \\\n",
    "  .readStream \\\n",
    "  .format(\"org.apache.spark.sql.kafka010.KafkaSourceProvider\") \\\n",
    "  .option(\"kafka.bootstrap.servers\", \"localhost:9092\") \\\n",
    "  .option(\"subscribe\", config['accelerations_topic']) \\\n",
    "  .load()"
   ]
  },
  {
   "cell_type": "markdown",
   "metadata": {},
   "source": [
    "The following code defines a Spark schema for location and acceleration data as well as a user-defined function (UDF) for parsing the location and acceleration JSON data. "
   ]
  },
  {
   "cell_type": "code",
   "execution_count": 6,
   "metadata": {},
   "outputs": [],
   "source": [
    "location_schema = StructType([\n",
    "    StructField('offset', DoubleType(), nullable=True),\n",
    "    StructField('id', StringType(), nullable=True),\n",
    "    StructField('ride_id', StringType(), nullable=True),\n",
    "    StructField('uuid', StringType(), nullable=True),\n",
    "    StructField('course', DoubleType(), nullable=True),\n",
    "    StructField('latitude', DoubleType(), nullable=True),\n",
    "    StructField('longitude', DoubleType(), nullable=True),\n",
    "    StructField('geohash', StringType(), nullable=True),\n",
    "    StructField('speed', DoubleType(), nullable=True),\n",
    "    StructField('accuracy', DoubleType(), nullable=True),\n",
    "])\n",
    "\n",
    "acceleration_schema = StructType([\n",
    "    StructField('offset', DoubleType(), nullable=True),\n",
    "    StructField('id', StringType(), nullable=True),\n",
    "    StructField('ride_id', StringType(), nullable=True),\n",
    "    StructField('uuid', StringType(), nullable=True),\n",
    "    StructField('x', DoubleType(), nullable=True),\n",
    "    StructField('y', DoubleType(), nullable=True),\n",
    "    StructField('z', DoubleType(), nullable=True),\n",
    "])\n",
    "\n",
    "udf_parse_acceleration = udf(lambda x: json.loads(x.decode('utf-8')), acceleration_schema)\n",
    "udf_parse_location = udf(lambda x: json.loads(x.decode('utf-8')), location_schema)"
   ]
  },
  {
   "cell_type": "markdown",
   "metadata": {},
   "source": [
    "**TODO:**  \n",
    "\n",
    "* Complete the code to create the `accelerationsWithWatermark` dataframe. \n",
    "  * Select the `timestamp` field with the alias `acceleration_timestamp`\n",
    "  * Use the `udf_parse_acceleration` UDF to parse the JSON values\n",
    "  * Select the `ride_id` as `acceleration_ride_id`\n",
    "  * Select the `x`, `y`, and `z` columns\n",
    "  * Use the same watermark timespan used in the `locationsWithWatermark` dataframe"
   ]
  },
  {
   "cell_type": "code",
   "execution_count": 7,
   "metadata": {},
   "outputs": [],
   "source": [
    "locationsWithWatermark = df_locations \\\n",
    "  .select(\n",
    "    col('timestamp').alias('location_timestamp'), \n",
    "    udf_parse_location(df_locations['value']).alias('json_value')\n",
    "   ) \\\n",
    "  .select(\n",
    "    col('location_timestamp'), \n",
    "    col('json_value.ride_id').alias('location_ride_id'),\n",
    "    col('json_value.speed').alias('speed'),\n",
    "    col('json_value.latitude').alias('latitude'),\n",
    "    col('json_value.longitude').alias('longitude'),\n",
    "    col('json_value.geohash').alias('geohash'),\n",
    "    col('json_value.accuracy').alias('accuracy')\n",
    "  ) \\\n",
    " .withWatermark('location_timestamp', \"2 seconds\")\n",
    "\n",
    "accelerationsWithWatermark = df_accelerations \\\n",
    "  .select(\n",
    "    col('timestamp').alias('acceleration_timestamp'),\n",
    "    udf_parse_acceleration(df_accelerations['value']).alias('json_value')\n",
    "   ) \\\n",
    "  .select(\n",
    "    col('acceleration_timestamp'),\n",
    "    col('json_value.ride_id').alias('acceleration_ride_id'),\n",
    "    col('json_value.x').alias('x'),\n",
    "    col('json_value.y').alias('y'),\n",
    "    col('json_value.z').alias('z')\n",
    "  ) \\\n",
    " .withWatermark('acceleration_timestamp', \"2 seconds\")"
   ]
  },
  {
   "cell_type": "markdown",
   "metadata": {},
   "source": [
    "**TODO:**  \n",
    "\n",
    "* Complete the code to create the `df_joined` dataframe. See http://spark.apache.org/docs/latest/structured-streaming-programming-guide.html#stream-stream-joins for additional information. "
   ]
  },
  {
   "cell_type": "code",
   "execution_count": 8,
   "metadata": {},
   "outputs": [
    {
     "data": {
      "text/plain": [
       "DataFrame[location_timestamp: timestamp, location_ride_id: string, speed: double, latitude: double, longitude: double, geohash: string, accuracy: double, acceleration_timestamp: timestamp, acceleration_ride_id: string, x: double, y: double, z: double]"
      ]
     },
     "execution_count": 8,
     "metadata": {},
     "output_type": "execute_result"
    }
   ],
   "source": [
    "df_joined = locationsWithWatermark.join(\n",
    "    accelerationsWithWatermark,\n",
    "    expr(\"\"\"\n",
    "        location_ride_id = acceleration_ride_id\n",
    "        \"\"\")\n",
    ")\n",
    "df_joined"
   ]
  },
  {
   "cell_type": "markdown",
   "metadata": {},
   "source": [
    "If you correctly created the `df_joined` dataframe, you should be able to use the following code to create a streaming query that outputs results to the `LastnameFirstname-joined` topic. "
   ]
  },
  {
   "cell_type": "code",
   "execution_count": 9,
   "metadata": {},
   "outputs": [
    {
     "ename": "AnalysisException",
     "evalue": "cannot resolve '`ride_id`' given input columns: [acceleration_ride_id, acceleration_timestamp, accuracy, geohash, latitude, location_ride_id, location_timestamp, longitude, speed, x, y, z];\n'Project [location_timestamp#63-T2000ms, location_ride_id#68, speed#69, latitude#70, longitude#71, geohash#72, accuracy#73, acceleration_timestamp#87-T2000ms, acceleration_ride_id#92, x#93, y#94, z#95, to_json(struct(NamePlaceholder, 'ride_id, location_timestamp, location_timestamp#63-T2000ms, speed, speed#69, latitude, latitude#70, longitude, longitude#71, geohash, geohash#72, accuracy, accuracy#73, acceleration_timestamp, acceleration_timestamp#87-T2000ms, x, x#93, y, y#94, z, z#95), Some(Etc/UTC)) AS value#129]\n+- Join Inner, (location_ride_id#68 = acceleration_ride_id#92)\n   :- EventTimeWatermark location_timestamp#63: timestamp, 2 seconds\n   :  +- Project [location_timestamp#63, json_value#65.ride_id AS location_ride_id#68, json_value#65.speed AS speed#69, json_value#65.latitude AS latitude#70, json_value#65.longitude AS longitude#71, json_value#65.geohash AS geohash#72, json_value#65.accuracy AS accuracy#73]\n   :     +- Project [timestamp#33 AS location_timestamp#63, <lambda>(value#29) AS json_value#65]\n   :        +- StreamingRelationV2 org.apache.spark.sql.kafka010.KafkaSourceProvider@180d1642, kafka, org.apache.spark.sql.kafka010.KafkaSourceProvider$KafkaTable@70feb780, [kafka.bootstrap.servers=kafka.kafka.svc.cluster.local:9092, subscribe=SutowBrett-locations], [key#28, value#29, topic#30, partition#31, offset#32L, timestamp#33, timestampType#34], StreamingRelation DataSource(org.apache.spark.sql.SparkSession@64adba0c,kafka,List(),None,List(),None,Map(kafka.bootstrap.servers -> kafka.kafka.svc.cluster.local:9092, subscribe -> SutowBrett-locations),None), kafka, [key#21, value#22, topic#23, partition#24, offset#25L, timestamp#26, timestampType#27]\n   +- EventTimeWatermark acceleration_timestamp#87: timestamp, 2 seconds\n      +- Project [acceleration_timestamp#87, json_value#89.ride_id AS acceleration_ride_id#92, json_value#89.x AS x#93, json_value#89.y AS y#94, json_value#89.z AS z#95]\n         +- Project [timestamp#54 AS acceleration_timestamp#87, <lambda>(value#50) AS json_value#89]\n            +- StreamingRelationV2 org.apache.spark.sql.kafka010.KafkaSourceProvider@5879a813, org.apache.spark.sql.kafka010.KafkaSourceProvider, org.apache.spark.sql.kafka010.KafkaSourceProvider$KafkaTable@28360a58, [kafka.bootstrap.servers=localhost:9092, subscribe=SutowBrett-accelerations], [key#49, value#50, topic#51, partition#52, offset#53L, timestamp#54, timestampType#55], StreamingRelation DataSource(org.apache.spark.sql.SparkSession@64adba0c,org.apache.spark.sql.kafka010.KafkaSourceProvider,List(),None,List(),None,Map(kafka.bootstrap.servers -> localhost:9092, subscribe -> SutowBrett-accelerations),None), kafka, [key#42, value#43, topic#44, partition#45, offset#46L, timestamp#47, timestampType#48]\n",
     "output_type": "error",
     "traceback": [
      "\u001b[0;31m---------------------------------------------------------------------------\u001b[0m",
      "\u001b[0;31mAnalysisException\u001b[0m                         Traceback (most recent call last)",
      "\u001b[0;32m<ipython-input-9-72756735dc4c>\u001b[0m in \u001b[0;36m<module>\u001b[0;34m\u001b[0m\n\u001b[0;32m----> 1\u001b[0;31m \u001b[0mds_joined\u001b[0m \u001b[0;34m=\u001b[0m \u001b[0mdf_joined\u001b[0m\u001b[0;31m \u001b[0m\u001b[0;31m\\\u001b[0m\u001b[0;34m\u001b[0m\u001b[0;34m\u001b[0m\u001b[0m\n\u001b[0m\u001b[1;32m      2\u001b[0m   .withColumn(\n\u001b[1;32m      3\u001b[0m     \u001b[0;34m'value'\u001b[0m\u001b[0;34m,\u001b[0m\u001b[0;34m\u001b[0m\u001b[0;34m\u001b[0m\u001b[0m\n\u001b[1;32m      4\u001b[0m     to_json(\n\u001b[1;32m      5\u001b[0m         struct(\n",
      "\u001b[0;32m/opt/conda/lib/python3.8/site-packages/pyspark/sql/dataframe.py\u001b[0m in \u001b[0;36mwithColumn\u001b[0;34m(self, colName, col)\u001b[0m\n\u001b[1;32m   2453\u001b[0m         \"\"\"\n\u001b[1;32m   2454\u001b[0m         \u001b[0;32massert\u001b[0m \u001b[0misinstance\u001b[0m\u001b[0;34m(\u001b[0m\u001b[0mcol\u001b[0m\u001b[0;34m,\u001b[0m \u001b[0mColumn\u001b[0m\u001b[0;34m)\u001b[0m\u001b[0;34m,\u001b[0m \u001b[0;34m\"col should be Column\"\u001b[0m\u001b[0;34m\u001b[0m\u001b[0;34m\u001b[0m\u001b[0m\n\u001b[0;32m-> 2455\u001b[0;31m         \u001b[0;32mreturn\u001b[0m \u001b[0mDataFrame\u001b[0m\u001b[0;34m(\u001b[0m\u001b[0mself\u001b[0m\u001b[0;34m.\u001b[0m\u001b[0m_jdf\u001b[0m\u001b[0;34m.\u001b[0m\u001b[0mwithColumn\u001b[0m\u001b[0;34m(\u001b[0m\u001b[0mcolName\u001b[0m\u001b[0;34m,\u001b[0m \u001b[0mcol\u001b[0m\u001b[0;34m.\u001b[0m\u001b[0m_jc\u001b[0m\u001b[0;34m)\u001b[0m\u001b[0;34m,\u001b[0m \u001b[0mself\u001b[0m\u001b[0;34m.\u001b[0m\u001b[0msql_ctx\u001b[0m\u001b[0;34m)\u001b[0m\u001b[0;34m\u001b[0m\u001b[0;34m\u001b[0m\u001b[0m\n\u001b[0m\u001b[1;32m   2456\u001b[0m \u001b[0;34m\u001b[0m\u001b[0m\n\u001b[1;32m   2457\u001b[0m     \u001b[0;32mdef\u001b[0m \u001b[0mwithColumnRenamed\u001b[0m\u001b[0;34m(\u001b[0m\u001b[0mself\u001b[0m\u001b[0;34m,\u001b[0m \u001b[0mexisting\u001b[0m\u001b[0;34m,\u001b[0m \u001b[0mnew\u001b[0m\u001b[0;34m)\u001b[0m\u001b[0;34m:\u001b[0m\u001b[0;34m\u001b[0m\u001b[0;34m\u001b[0m\u001b[0m\n",
      "\u001b[0;32m/opt/conda/lib/python3.8/site-packages/py4j/java_gateway.py\u001b[0m in \u001b[0;36m__call__\u001b[0;34m(self, *args)\u001b[0m\n\u001b[1;32m   1302\u001b[0m \u001b[0;34m\u001b[0m\u001b[0m\n\u001b[1;32m   1303\u001b[0m         \u001b[0manswer\u001b[0m \u001b[0;34m=\u001b[0m \u001b[0mself\u001b[0m\u001b[0;34m.\u001b[0m\u001b[0mgateway_client\u001b[0m\u001b[0;34m.\u001b[0m\u001b[0msend_command\u001b[0m\u001b[0;34m(\u001b[0m\u001b[0mcommand\u001b[0m\u001b[0;34m)\u001b[0m\u001b[0;34m\u001b[0m\u001b[0;34m\u001b[0m\u001b[0m\n\u001b[0;32m-> 1304\u001b[0;31m         return_value = get_return_value(\n\u001b[0m\u001b[1;32m   1305\u001b[0m             answer, self.gateway_client, self.target_id, self.name)\n\u001b[1;32m   1306\u001b[0m \u001b[0;34m\u001b[0m\u001b[0m\n",
      "\u001b[0;32m/opt/conda/lib/python3.8/site-packages/pyspark/sql/utils.py\u001b[0m in \u001b[0;36mdeco\u001b[0;34m(*a, **kw)\u001b[0m\n\u001b[1;32m    115\u001b[0m                 \u001b[0;31m# Hide where the exception came from that shows a non-Pythonic\u001b[0m\u001b[0;34m\u001b[0m\u001b[0;34m\u001b[0m\u001b[0;34m\u001b[0m\u001b[0m\n\u001b[1;32m    116\u001b[0m                 \u001b[0;31m# JVM exception message.\u001b[0m\u001b[0;34m\u001b[0m\u001b[0;34m\u001b[0m\u001b[0;34m\u001b[0m\u001b[0m\n\u001b[0;32m--> 117\u001b[0;31m                 \u001b[0;32mraise\u001b[0m \u001b[0mconverted\u001b[0m \u001b[0;32mfrom\u001b[0m \u001b[0;32mNone\u001b[0m\u001b[0;34m\u001b[0m\u001b[0;34m\u001b[0m\u001b[0m\n\u001b[0m\u001b[1;32m    118\u001b[0m             \u001b[0;32melse\u001b[0m\u001b[0;34m:\u001b[0m\u001b[0;34m\u001b[0m\u001b[0;34m\u001b[0m\u001b[0m\n\u001b[1;32m    119\u001b[0m                 \u001b[0;32mraise\u001b[0m\u001b[0;34m\u001b[0m\u001b[0;34m\u001b[0m\u001b[0m\n",
      "\u001b[0;31mAnalysisException\u001b[0m: cannot resolve '`ride_id`' given input columns: [acceleration_ride_id, acceleration_timestamp, accuracy, geohash, latitude, location_ride_id, location_timestamp, longitude, speed, x, y, z];\n'Project [location_timestamp#63-T2000ms, location_ride_id#68, speed#69, latitude#70, longitude#71, geohash#72, accuracy#73, acceleration_timestamp#87-T2000ms, acceleration_ride_id#92, x#93, y#94, z#95, to_json(struct(NamePlaceholder, 'ride_id, location_timestamp, location_timestamp#63-T2000ms, speed, speed#69, latitude, latitude#70, longitude, longitude#71, geohash, geohash#72, accuracy, accuracy#73, acceleration_timestamp, acceleration_timestamp#87-T2000ms, x, x#93, y, y#94, z, z#95), Some(Etc/UTC)) AS value#129]\n+- Join Inner, (location_ride_id#68 = acceleration_ride_id#92)\n   :- EventTimeWatermark location_timestamp#63: timestamp, 2 seconds\n   :  +- Project [location_timestamp#63, json_value#65.ride_id AS location_ride_id#68, json_value#65.speed AS speed#69, json_value#65.latitude AS latitude#70, json_value#65.longitude AS longitude#71, json_value#65.geohash AS geohash#72, json_value#65.accuracy AS accuracy#73]\n   :     +- Project [timestamp#33 AS location_timestamp#63, <lambda>(value#29) AS json_value#65]\n   :        +- StreamingRelationV2 org.apache.spark.sql.kafka010.KafkaSourceProvider@180d1642, kafka, org.apache.spark.sql.kafka010.KafkaSourceProvider$KafkaTable@70feb780, [kafka.bootstrap.servers=kafka.kafka.svc.cluster.local:9092, subscribe=SutowBrett-locations], [key#28, value#29, topic#30, partition#31, offset#32L, timestamp#33, timestampType#34], StreamingRelation DataSource(org.apache.spark.sql.SparkSession@64adba0c,kafka,List(),None,List(),None,Map(kafka.bootstrap.servers -> kafka.kafka.svc.cluster.local:9092, subscribe -> SutowBrett-locations),None), kafka, [key#21, value#22, topic#23, partition#24, offset#25L, timestamp#26, timestampType#27]\n   +- EventTimeWatermark acceleration_timestamp#87: timestamp, 2 seconds\n      +- Project [acceleration_timestamp#87, json_value#89.ride_id AS acceleration_ride_id#92, json_value#89.x AS x#93, json_value#89.y AS y#94, json_value#89.z AS z#95]\n         +- Project [timestamp#54 AS acceleration_timestamp#87, <lambda>(value#50) AS json_value#89]\n            +- StreamingRelationV2 org.apache.spark.sql.kafka010.KafkaSourceProvider@5879a813, org.apache.spark.sql.kafka010.KafkaSourceProvider, org.apache.spark.sql.kafka010.KafkaSourceProvider$KafkaTable@28360a58, [kafka.bootstrap.servers=localhost:9092, subscribe=SutowBrett-accelerations], [key#49, value#50, topic#51, partition#52, offset#53L, timestamp#54, timestampType#55], StreamingRelation DataSource(org.apache.spark.sql.SparkSession@64adba0c,org.apache.spark.sql.kafka010.KafkaSourceProvider,List(),None,List(),None,Map(kafka.bootstrap.servers -> localhost:9092, subscribe -> SutowBrett-accelerations),None), kafka, [key#42, value#43, topic#44, partition#45, offset#46L, timestamp#47, timestampType#48]\n"
     ]
    }
   ],
   "source": [
    "ds_joined = df_joined \\\n",
    "  .withColumn(\n",
    "    'value', \n",
    "    to_json(\n",
    "        struct(\n",
    "            'ride_id', 'location_timestamp', 'speed', \n",
    "            'latitude', 'longitude', 'geohash', 'accuracy', \n",
    "            'acceleration_timestamp', 'x', 'y', 'z'\n",
    "        )\n",
    "    )\n",
    "    ).withColumn(\n",
    "     'key', col('ride_id')\n",
    "    ) \\\n",
    "  .selectExpr(\"CAST(key AS STRING)\", \"CAST(value AS STRING)\") \\\n",
    "  .writeStream \\\n",
    "  .format(\"kafka\") \\\n",
    "  .option(\"kafka.bootstrap.servers\", \"kafka.kafka.svc.cluster.local:9092\") \\\n",
    "  .option(\"topic\", config['joined_topic']) \\\n",
    "  .option(\"checkpointLocation\", str(joined_checkpoint_dir)) \\\n",
    "  .start()\n",
    "\n",
    "try:\n",
    "    ds_joined.awaitTermination()\n",
    "except KeyboardInterrupt:\n",
    "    print(\"STOPPING STREAMING DATA\")"
   ]
  },
  {
   "cell_type": "code",
   "execution_count": null,
   "metadata": {},
   "outputs": [],
   "source": []
  }
 ],
 "metadata": {
  "kernelspec": {
   "display_name": "Python 3",
   "language": "python",
   "name": "python3"
  },
  "language_info": {
   "codemirror_mode": {
    "name": "ipython",
    "version": 3
   },
   "file_extension": ".py",
   "mimetype": "text/x-python",
   "name": "python",
   "nbconvert_exporter": "python",
   "pygments_lexer": "ipython3",
   "version": "3.8.8"
  }
 },
 "nbformat": 4,
 "nbformat_minor": 4
}
